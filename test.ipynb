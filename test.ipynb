{
 "cells": [
  {
   "cell_type": "code",
   "execution_count": 22,
   "metadata": {
    "collapsed": false
   },
   "outputs": [
    {
     "name": "stdout",
     "output_type": "stream",
     "text": [
      "['h', 'e', 'l', 'l', 'o', '!', ' ', 'k', 'o', 's', 'k', 'e', 's', 'h', '?', '?', ' ', 's', 'a', 'l', 'a', 'm', '.', ' ', 'k', 'i', 'r', '!']\n",
      "hello koskesh salam kir\n"
     ]
    }
   ],
   "source": [
    "text = input(\"Enter your text here: \")\n",
    "wordSeperator = list(text)\n",
    "print(wordSeperator)\n",
    "\n",
    "unwantedSymbols = [\",\", \".\", \"?\", \"!\"]\n",
    "\n",
    "def symbolRemover(entryText):\n",
    "    modified_text = ''.join([word for word in entryText if word not in unwantedSymbols])\n",
    "    print(modified_text)\n",
    "\n",
    "symbolRemover(wordSeperator)"
   ]
  },
  {
   "cell_type": "code",
   "execution_count": 24,
   "metadata": {},
   "outputs": [
    {
     "name": "stdout",
     "output_type": "stream",
     "text": [
      "salam koskesh khobi\n"
     ]
    }
   ],
   "source": [
    "text = input(\"Enter your text here: \")\n",
    "\n",
    "unwantedSymbols = [\",\", \".\", \"?\", \"!\"]\n",
    "\n",
    "symbolRemover = lambda entryText: ''.join([word for word in entryText if word not in unwantedSymbols])\n",
    "\n",
    "modified_text = symbolRemover(list(text))\n",
    "print(modified_text)"
   ]
  }
 ],
 "metadata": {
  "kernelspec": {
   "display_name": "Python 3",
   "language": "python",
   "name": "python3"
  },
  "language_info": {
   "codemirror_mode": {
    "name": "ipython",
    "version": 3
   },
   "file_extension": ".py",
   "mimetype": "text/x-python",
   "name": "python",
   "nbconvert_exporter": "python",
   "pygments_lexer": "ipython3",
   "version": "3.10.7"
  }
 },
 "nbformat": 4,
 "nbformat_minor": 0
}
