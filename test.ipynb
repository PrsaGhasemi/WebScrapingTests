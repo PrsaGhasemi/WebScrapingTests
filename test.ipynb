{
 "cells": [
  {
   "cell_type": "code",
   "execution_count": 8,
   "metadata": {},
   "outputs": [
    {
     "name": "stdout",
     "output_type": "stream",
     "text": [
      "2023/07/26 \n",
      "\n",
      "2023/12/31 \n",
      "\n",
      "2022/01/01 \n",
      "\n",
      "2023/13/01 \n",
      "\n"
     ]
    }
   ],
   "source": [
    "import re\n",
    "\n",
    "def findDates(text):\n",
    "    datePattern = r'\\b\\d{4}/\\d{2}/\\d{2}\\b'\n",
    "    dates = re.findall(datePattern, text)\n",
    "    \n",
    "    return dates\n",
    "\n",
    "textInput = input(\"Enter Your text here: \") \n",
    "extractedDates = findDates(textInput)\n",
    "if extractedDates:\n",
    "    for date in extractedDates:\n",
    "            print(f\"{date} \\n\")\n",
    "else:\n",
    "    print(\"No dates in the form of yyyy/mm/dd found in the input.\")\n"
   ]
  }
 ],
 "metadata": {
  "kernelspec": {
   "display_name": "Python 3",
   "language": "python",
   "name": "python3"
  },
  "language_info": {
   "codemirror_mode": {
    "name": "ipython",
    "version": 3
   },
   "file_extension": ".py",
   "mimetype": "text/x-python",
   "name": "python",
   "nbconvert_exporter": "python",
   "pygments_lexer": "ipython3",
   "version": "3.10.7"
  }
 },
 "nbformat": 4,
 "nbformat_minor": 0
}
