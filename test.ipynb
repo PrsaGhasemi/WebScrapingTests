{
 "cells": [
  {
   "cell_type": "code",
   "execution_count": 25,
   "metadata": {},
   "outputs": [
    {
     "name": "stdout",
     "output_type": "stream",
     "text": [
      "1\n",
      "1 1\n",
      "1 2 1\n",
      "1 3 3 1\n"
     ]
    }
   ],
   "source": [
    "rows = int(input(\"How many rows do you want? \"))\n",
    "def printPascalsTriangle(rows):\n",
    "    triangle = []\n",
    "    \n",
    "    for row in range(rows):\n",
    "        currentRow = [1]\n",
    "        if triangle:\n",
    "            lastRow = triangle[-1]\n",
    "            currentRow.extend([sum(pair) for pair in zip(lastRow, lastRow[1:])])\n",
    "            currentRow.append(1)\n",
    "        \n",
    "        triangle.append(currentRow)\n",
    "    \n",
    "    for row in triangle:\n",
    "        print(\" \".join(str(num) for num in row))\n",
    "\n",
    "printPascalsTriangle(rows)"
   ]
  }
 ],
 "metadata": {
  "kernelspec": {
   "display_name": "Python 3",
   "language": "python",
   "name": "python3"
  },
  "language_info": {
   "codemirror_mode": {
    "name": "ipython",
    "version": 3
   },
   "file_extension": ".py",
   "mimetype": "text/x-python",
   "name": "python",
   "nbconvert_exporter": "python",
   "pygments_lexer": "ipython3",
   "version": "3.10.7"
  }
 },
 "nbformat": 4,
 "nbformat_minor": 0
}
